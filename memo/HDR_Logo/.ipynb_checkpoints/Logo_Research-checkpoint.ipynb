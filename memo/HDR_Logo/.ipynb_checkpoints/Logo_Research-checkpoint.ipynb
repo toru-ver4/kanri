{
 "cells": [
  {
   "cell_type": "markdown",
   "metadata": {},
   "source": [
    "# 企業ロゴの表示輝度に関する調査\n",
    "\n",
    "## 目的\n",
    "\n",
    "* HDRデモ動画上で企業ロゴを表示する際に、輝度の基準を何cd/m2するべきか結論を出す\n",
    "\n",
    "## 他者の企業ロゴ調査\n",
    "\n",
    "### 概要\n",
    "\n",
    "YouTube の [The HDR Channel](https://www.youtube.com/channel/UCve7_yAZHFNipzeAGBI5t9g) を覗くと各社のHDRデモ動画が投稿されている。\n",
    "\n",
    "この動画から各社が企業ロゴを何cd/m2で表示しているのか傾向を調べる。\n",
    "\n",
    "### 調査方法\n",
    "\n",
    "以下の○社のHDR動画を **MPC-BE**(※1) で再生し、企業ロゴのビデオレベルを調べる。ビデオレベルを輝度値に変換する。\n",
    "\n",
    "* SONY\n",
    "* LG\n",
    "* SAMUSUNG\n",
    "* Panasonic\n",
    "* TCL\n",
    "* MYSTERY BOX\n",
    "\n",
    "\n",
    "※1: YouTube の HDR動画再生に対応した動画プレイヤー。\n",
    "\n",
    "### 調査結果\n",
    "\n",
    "| メーカー名 | Link |企業ロゴ |ビデオレベル(10bit) | 輝度[cd/m2] |\n",
    "|:----------|:--------:|:------|:------------------|:------------|\n",
    "|SONY| [Swordsmith in HDR](https://www.youtube.com/watch?v=KwleMSuezjY) | <img src=\"./img/sony1.png\" width=512px>  |632 | 289  |\n",
    "|Netflix作品のDOLBY| [Netflix Meridian](https://www.youtube.com/watch?v=u1LTx4h7D_0) | <img src=\"./img/netflix.png\" width=512px> | 640 | 310 |\n",
    "|MYSTERY BOXのharmonic| [Venice Carnival](https://www.youtube.com/watch?v=GTGm7mye-_4) | <img src=\"./img/mystery_box.png\" width=512px>  | 660 | 373 |\n",
    "|TCL| [TCL Four Basic Colors in HDR](https://www.youtube.com/watch?v=ESxn1cLz-Ig)  |<img src=\"./img/tcl.png\" width=512px>| 692 | 499 |\n",
    "|LG| [Skiing in HDR](https://www.youtube.com/watch?v=cWEE1fyFwI0) | <img src=\"./img/lg.png\" width=512px>  | 696 | 518 |\n",
    "|Samsung| [See the Unexpected from Samsung and RedBull in HDR](https://www.youtube.com/watch?v=MuAmv2PsqEw) | <img src=\"./img/samsung.png\" width=512px>  | 792 | 1228 |\n",
    "\n",
    "\n",
    "\n",
    "### 考察\n",
    "\n",
    "Samsungを除く各社は 300～500 cd/m2 の範囲に収めてきている。大まかにカテゴリを分けると以下となる。\n",
    "\n",
    "* 背景が暗い場合: 300 cd/m2\n",
    "* 背景が明るい場合: 400～500 cd/m2\n",
    "\n",
    "これの結果が１つの指標になると考える。\n",
    "\n",
    "## 提案"
   ]
  },
  {
   "cell_type": "code",
   "execution_count": 8,
   "metadata": {},
   "outputs": [
    {
     "data": {
      "text/plain": [
       "373.2461452984507"
      ]
     },
     "execution_count": 8,
     "metadata": {},
     "output_type": "execute_result"
    }
   ],
   "source": [
    "import colour\n",
    "colour.eotf(660/1023, \"ST 2084\")"
   ]
  }
 ],
 "metadata": {
  "kernelspec": {
   "display_name": "Python 3",
   "language": "python",
   "name": "python3"
  },
  "language_info": {
   "codemirror_mode": {
    "name": "ipython",
    "version": 3
   },
   "file_extension": ".py",
   "mimetype": "text/x-python",
   "name": "python",
   "nbconvert_exporter": "python",
   "pygments_lexer": "ipython3",
   "version": "3.5.4"
  }
 },
 "nbformat": 4,
 "nbformat_minor": 2
}
