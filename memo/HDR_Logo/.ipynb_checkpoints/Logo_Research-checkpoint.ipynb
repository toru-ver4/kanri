{
 "cells": [
  {
   "cell_type": "markdown",
   "metadata": {},
   "source": [
    "# 企業ロゴの表示輝度に関する調査\n",
    "\n",
    "## 目的\n",
    "\n",
    "* HDRデモ動画上で企業ロゴを表示する際に、輝度の基準を何cd/m2 とすべきか案を提示する。\n",
    "\n",
    "### 背景\n",
    "\n",
    "現状のロゴ規定は云々カンヌン。\n",
    "\n",
    "## 結論\n",
    "各社の状況および私のこれまでの経験から以下の基準を提案する。\n",
    "\n",
    "* 背景が黒一色の場合は 300 cd/m2 で表示\n",
    "* 背景に黒以外の絵がある場合は 300～600 cd/m2 で表示(最適な輝度値は背景画とのバランスを見て調整)\n",
    "\n",
    "上記結論に至った経緯は以下を参照。\n",
    "\n",
    "## HDR動画での各社の企業ロゴ調査\n",
    "\n",
    "### 概要\n",
    "\n",
    "以下のサイトにHDR動画が複数投稿されている。\n",
    "\n",
    "* [YouTube の The HDR Channel](https://www.youtube.com/channel/UCve7_yAZHFNipzeAGBI5t9g)\n",
    "* [Vimeo](https://vimeo.com)\n",
    "* [Video Test Media](https://media.xiph.org/video/derf/)\n",
    "\n",
    "\n",
    "この動画から各社が企業ロゴを何cd/m2で表示しているのか傾向を調べる。\n",
    "\n",
    "### 調査方法\n",
    "\n",
    "以下の8社のHDR動画を **MPC-BE**(※1) で再生し、企業ロゴのビデオレベルを調べる。得られたビデオレベルを輝度値に変換する。\n",
    "\n",
    "* SONY\n",
    "* Netflix\n",
    "* MYSTERY BOX\n",
    "* TCL\n",
    "* LG\n",
    "* Amazon\n",
    "* Panasonic\n",
    "* Samsung\n",
    "\n",
    "\n",
    "※1: YouTube の HDR動画再生に対応した動画プレイヤー。\n",
    "\n",
    "### 調査結果\n",
    "\n",
    "| メーカー名 | Link |企業ロゴ |ビデオレベル(10bit) | 輝度[cd/m2] |\n",
    "|:----------|:--------:|:------|:------------------|:------------|\n",
    "|SONY| [Swordsmith in HDR](https://www.youtube.com/watch?v=KwleMSuezjY) | <img src=\"./img/sony1.png\" width=400px>  |632 | 289  |\n",
    "|NetflixのDOLBY| [Netflix Meridian](https://www.youtube.com/watch?v=u1LTx4h7D_0) | <img src=\"./img/netflix.png\" width=400px> | 640 | 311 |\n",
    "|MYSTERY BOXのharmonic| [Venice Carnival](https://www.youtube.com/watch?v=GTGm7mye-_4) | <img src=\"./img/mystery_box.png\" width=400px>  | 660 | 373 |\n",
    "|TCL| [TCL Four Basic Colors in HDR](https://www.youtube.com/watch?v=ESxn1cLz-Ig)  |<img src=\"./img/tcl.png\" width=400px>| 692 | 499 |\n",
    "|LG| [Skiing in HDR](https://www.youtube.com/watch?v=cWEE1fyFwI0) | <img src=\"./img/lg.png\" width=400px>  | 696 | 518 |\n",
    "|Amazon| [HDR Education Reel](https://media.xiph.org/video/derf/amazon/amazon_hdr_education_reel_final_121715.mov) | <img src=\"./img/amazon.png\" width=400px>  | 716 | 620 |\n",
    "|Panasonic| [Isobel](https://vimeo.com/246250675) | <img src=\"./img/panasonic.png\" width=400px>  | 768 | 990 |\n",
    "|Samsung| [See the Unexpected from Samsung and RedBull in HDR](https://www.youtube.com/watch?v=MuAmv2PsqEw) | <img src=\"./img/samsung.png\" width=400px>  | 792 | 1228 |\n",
    "\n",
    "\n",
    "\n",
    "\n",
    "### 考察\n",
    "\n",
    "各社バラバラであるが Panasonic/Samsung 以外は 620cd/m2 より下の輝度に収まっている。一方で高輝度だった Samusungでさえも 1228cd/m2 となっており、白ベタ(10000cd/m2)よりも相当に低い輝度レベルを設定している。\n",
    "\n",
    "\n",
    "## 提案\n",
    "\n",
    "各社のロゴを調査したが、白ベタの10000cd/m2で表示しているメーカーは1社も存在していなかった。<br>\n",
    "この状況下で当社が白ベタのロゴを埋め込んだ場合には、業界から「HDRを全く理解できていない」と笑われる可能性が極めて高い。\n",
    "\n",
    "以上を踏まえて、冒頭の結論で述べた輝度値とすることを提案する。\n",
    "\n"
   ]
  },
  {
   "cell_type": "markdown",
   "metadata": {},
   "source": [
    "## 付録\n",
    "\n",
    "### YouTube の HDR動画を Windows PC で視聴する方法\n",
    "\n",
    "以下に載せる方法は 2018年4月時点での方法です。HDR動画再生環境は刻々と状況が変わっており、1年後に同じ方法が通じるかは不透明だということをご了承下さい。\n",
    "\n",
    "1. [MPC-BE](https://sourceforge.net/projects/mpcbe/) をインストールする\n",
    "2. [madVR](http://madvr.com/) をインストールする\n",
    "3. MPC-BE の View --> Options の Video renderer 設定を **madVR** にする\n",
    "<img src=\"./img/mpc-be.jpg\" width=50%>\n",
    "\n",
    "4. MPC-BE の View --> Options の YouTube 設定で **60fps**, **HDR** のチェックを入れる\n",
    "<img src=\"./img/mpc-be2.jpg\" width=50%>\n",
    "\n",
    "5. madVR の Edit madVR Settings --> hdr の設定を **passthrough HDR content the display** にする\n",
    "<img src=\"./img/madVR.jpg\" width=50%>\n",
    "\n",
    "6. MPC-BE で File --> Open File/URL... を選択し YouTubeの動画URLを指定する\n"
   ]
  },
  {
   "cell_type": "code",
   "execution_count": 6,
   "metadata": {},
   "outputs": [
    {
     "data": {
      "text/plain": [
       "array([  288.71187338,   310.76508368,   373.2461453 ,   499.33781674,\n",
       "         517.75977509,   620.31959189,   990.01441189,  1227.61248592])"
      ]
     },
     "execution_count": 6,
     "metadata": {},
     "output_type": "execute_result"
    }
   ],
   "source": [
    "# ビデオレベルを輝度値に変換\n",
    "# ------------------------------\n",
    "import colour\n",
    "import numpy as np\n",
    "video_level = np.array([632, 640, 660, 692, 696, 716, 768, 792]) / 1023\n",
    "colour.eotf(video_level, \"ST 2084\")"
   ]
  }
 ],
 "metadata": {
  "kernelspec": {
   "display_name": "Python 3",
   "language": "python",
   "name": "python3"
  },
  "language_info": {
   "codemirror_mode": {
    "name": "ipython",
    "version": 3
   },
   "file_extension": ".py",
   "mimetype": "text/x-python",
   "name": "python",
   "nbconvert_exporter": "python",
   "pygments_lexer": "ipython3",
   "version": "3.5.4"
  }
 },
 "nbformat": 4,
 "nbformat_minor": 2
}
